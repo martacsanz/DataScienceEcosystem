{
 "cells": [
  {
   "cell_type": "markdown",
   "id": "fb77cc48-55d0-4950-9a35-9f745509c4ee",
   "metadata": {},
   "source": [
    "# Data Science Tools and Ecosystem"
   ]
  },
  {
   "cell_type": "markdown",
   "id": "84a710ca-6e5a-42e2-957f-b6a2a09e3875",
   "metadata": {},
   "source": [
    "In this notebook, Data Science Tools and Ecosystem are summarized"
   ]
  },
  {
   "cell_type": "markdown",
   "id": "5e99e79e-1645-47c6-9efe-9f30dfc2b50d",
   "metadata": {},
   "source": [
    "**Objectives**"
   ]
  },
  {
   "cell_type": "markdown",
   "id": "326c977a-8ff8-4247-bc83-8ebcefac0865",
   "metadata": {},
   "source": [
    "* List popular languages\n",
    "* List Data Science libraruies\n",
    "* List Data Science tools"
   ]
  },
  {
   "cell_type": "markdown",
   "id": "6f1bd10a-fc08-4c5a-b743-e2c44d4e0944",
   "metadata": {},
   "source": [
    "Some of the popular languages Data Scientists use are:"
   ]
  },
  {
   "cell_type": "markdown",
   "id": "6b1ed721-899c-4f6d-a2aa-b3f2e3074430",
   "metadata": {},
   "source": [
    "* R\n",
    "* Python\n",
    "* Julia"
   ]
  },
  {
   "cell_type": "markdown",
   "id": "4cc0de3a-662a-44fd-828b-02a198c21526",
   "metadata": {},
   "source": [
    "Some of the commonly used libraries used by Data Scientists include:"
   ]
  },
  {
   "cell_type": "markdown",
   "id": "a84c0eb0-0e01-457a-a4bf-b6b11b6b6a8f",
   "metadata": {},
   "source": [
    "+ Panda\n",
    "+ Plotly\n",
    "+ Matplotlib"
   ]
  },
  {
   "cell_type": "markdown",
   "id": "dfe49e36-adc9-43e4-8e49-68c37275df78",
   "metadata": {},
   "source": [
    "|Data Science Tools|\n",
    "|------------------|\n",
    "|Apache Spark|\n",
    "|Julia|\n",
    "|Jupyter Notebbok|"
   ]
  },
  {
   "cell_type": "markdown",
   "id": "8b614972-0459-49e7-9dfe-b049e50dbb5a",
   "metadata": {},
   "source": [
    "### Below are a few examples of evaluating arithmetic expressions in Python."
   ]
  },
  {
   "cell_type": "markdown",
   "id": "a24f83af-af67-42e5-86a7-55f9b5f9776c",
   "metadata": {},
   "source": [
    "This a simple arithmetic expression to mutiply then add integers:"
   ]
  },
  {
   "cell_type": "code",
   "execution_count": 3,
   "id": "5e93a464-4487-463e-a445-b5825af31c18",
   "metadata": {
    "tags": []
   },
   "outputs": [
    {
     "data": {
      "text/plain": [
       "17"
      ]
     },
     "execution_count": 3,
     "metadata": {},
     "output_type": "execute_result"
    }
   ],
   "source": [
    "(3*4)+5"
   ]
  },
  {
   "cell_type": "markdown",
   "id": "44d792f0-2b85-4b37-95b2-c6587d71f2fa",
   "metadata": {},
   "source": [
    "This will convert 200 minutes to hours by diving by 60."
   ]
  },
  {
   "cell_type": "code",
   "execution_count": 4,
   "id": "83fbcefb-9d28-4b6f-9267-8f42f4584733",
   "metadata": {
    "tags": []
   },
   "outputs": [
    {
     "data": {
      "text/plain": [
       "3.3333333333333335"
      ]
     },
     "execution_count": 4,
     "metadata": {},
     "output_type": "execute_result"
    }
   ],
   "source": [
    "200/60"
   ]
  },
  {
   "cell_type": "markdown",
   "id": "161f6021-1740-49f4-98a4-8030509c807c",
   "metadata": {},
   "source": [
    "## Author"
   ]
  },
  {
   "cell_type": "markdown",
   "id": "8506b015-83cb-42c7-8b85-2784c8857738",
   "metadata": {},
   "source": [
    "Marta"
   ]
  },
  {
   "cell_type": "code",
   "execution_count": null,
   "id": "d1f96380-9934-4b7d-b504-d6b9ecf02bc8",
   "metadata": {},
   "outputs": [],
   "source": []
  }
 ],
 "metadata": {
  "kernelspec": {
   "display_name": "Python",
   "language": "python",
   "name": "conda-env-python-py"
  },
  "language_info": {
   "codemirror_mode": {
    "name": "ipython",
    "version": 3
   },
   "file_extension": ".py",
   "mimetype": "text/x-python",
   "name": "python",
   "nbconvert_exporter": "python",
   "pygments_lexer": "ipython3",
   "version": "3.7.12"
  }
 },
 "nbformat": 4,
 "nbformat_minor": 5
}
